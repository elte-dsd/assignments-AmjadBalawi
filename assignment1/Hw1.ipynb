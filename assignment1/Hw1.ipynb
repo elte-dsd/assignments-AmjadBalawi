{
  "nbformat": 4,
  "nbformat_minor": 0,
  "metadata": {
    "colab": {
      "name": "Hw1.ipynb",
      "provenance": []
    },
    "kernelspec": {
      "name": "python3",
      "display_name": "Python 3"
    }
  },
  "cells": [
    {
      "cell_type": "code",
      "metadata": {
        "id": "eBxKQY98pXz8",
        "colab_type": "code",
        "colab": {
          "base_uri": "https://localhost:8080/",
          "height": 181
        },
        "outputId": "24443586-7962-4db1-bdf1-f43c4ee31ec3"
      },
      "source": [
        "!pip install mmh3\n",
        "import numpy as np\n",
        "import mmh3\n",
        "\n",
        "class CountMinSketch(object):\n",
        "   \n",
        "    def __init__(self, width, length):\n",
        "    \n",
        "        self.width = width # the number of columns (possible values for the hash function)\n",
        "        self.length = length # the number of rows (number of hash functions)\n",
        "        self.table = np.zeros([length, width])  # Create empty table (initialize with zeros)\n",
        "        self.seed = np.random.randint(self.width, size = self.length) #Random seed\n",
        "    def add(self, key): \n",
        "        #method to add the key to the table (in this case a string will be added)\n",
        "     \n",
        "        for i in range(0, self.length):\n",
        "            index = mmh3.hash (key, self.seed[i]) % self.width\n",
        "            self.table[i, index] = self.table[i, index] + 1\n",
        "\n",
        "    def min_freq(self, key):\n",
        "       #to find the frequency of a given element\n",
        "        min_freq = self.width\n",
        "        for i in range(0, self.length): #loop over the rows to find the corresponding count\n",
        "            index = mmh3.hash( key, self.seed[i] ) % self.width\n",
        "            if self.table[i, index] < min_freq:\n",
        "                min_freq = self.table[i, index] \n",
        "        return min_freq\n"
      ],
      "execution_count": 2,
      "outputs": [
        {
          "output_type": "stream",
          "text": [
            "Collecting mmh3\n",
            "  Downloading https://files.pythonhosted.org/packages/fa/7e/3ddcab0a9fcea034212c02eb411433db9330e34d626360b97333368b4052/mmh3-2.5.1.tar.gz\n",
            "Building wheels for collected packages: mmh3\n",
            "  Building wheel for mmh3 (setup.py) ... \u001b[?25l\u001b[?25hdone\n",
            "  Created wheel for mmh3: filename=mmh3-2.5.1-cp36-cp36m-linux_x86_64.whl size=37853 sha256=cd3d1d42779071be8c44d0588181b9085336df2dee11e39a7a9251cc97cba59d\n",
            "  Stored in directory: /root/.cache/pip/wheels/38/b4/ea/6e4e321c625d3320c0c496bf4088371546d8fce5f1dd71b219\n",
            "Successfully built mmh3\n",
            "Installing collected packages: mmh3\n",
            "Successfully installed mmh3-2.5.1\n"
          ],
          "name": "stdout"
        }
      ]
    },
    {
      "cell_type": "code",
      "metadata": {
        "id": "fuUiNWj0qOYv",
        "colab_type": "code",
        "colab": {
          "base_uri": "https://localhost:8080/",
          "height": 72
        },
        "outputId": "0ee09c50-7d3a-4208-c0c7-6b469f9afac3"
      },
      "source": [
        "#method to test the code(simulate the example given in the lecture)\n",
        "counts = CountMinSketch(5,3) \n",
        "\n",
        "stream=['A','B','C','A','A','C']\n",
        "for i in stream:\n",
        "    counts.add(i)\n",
        "\n",
        "query=set(stream) # find the unique elements in the list\n",
        "    \n",
        "for j in query:\n",
        "    print (\"the frequency of \",j,\" is \",counts.min_freq(j))"
      ],
      "execution_count": 4,
      "outputs": [
        {
          "output_type": "stream",
          "text": [
            "the frequency of  C  is  2.0\n",
            "the frequency of  A  is  3.0\n",
            "the frequency of  B  is  1.0\n"
          ],
          "name": "stdout"
        }
      ]
    }
  ]
}
