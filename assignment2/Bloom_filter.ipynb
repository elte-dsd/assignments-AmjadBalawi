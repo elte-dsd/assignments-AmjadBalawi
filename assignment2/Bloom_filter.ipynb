{
  "nbformat": 4,
  "nbformat_minor": 0,
  "metadata": {
    "colab": {
      "name": "Bloom filter.ipynb",
      "provenance": [],
      "collapsed_sections": []
    },
    "kernelspec": {
      "name": "python3",
      "display_name": "Python 3"
    }
  },
  "cells": [
    {
      "cell_type": "code",
      "metadata": {
        "id": "XWhFJdwvx9F3",
        "colab_type": "code",
        "colab": {
          "base_uri": "https://localhost:8080/",
          "height": 344
        },
        "outputId": "6908a741-c273-4d3b-d6cf-5d5663b59a59"
      },
      "source": [
        "!pip install mmh3 \n",
        "!pip install bitarray \n",
        "from bitarray import bitarray \n",
        "import math \n",
        "import mmh3 \n",
        "class BloomFilter(): \n",
        "    def __init__(self, expected_itemsCount,FP_probability): # define the init function\n",
        "     \n",
        "        self.FP_probability = FP_probability \n",
        "        self.array_size = self.get_arraySize(expected_itemsCount,FP_probability) # get array size based expected items count and false-positive probability \n",
        "        self.hashfuns_count = self.get_hashfuns_count(self.array_size,expected_itemsCount) #get the number of hash functions\n",
        "        self.bit_array = bitarray(self.array_size) \n",
        "        self.bit_array.setall(0) # initialize all bits with zeros\n",
        "  \n",
        "    def add_item(self, item): # define the add method\n",
        "        for i in range(self.hashfuns_count):  \n",
        "            array_index = mmh3.hash(item,i) % self.array_size # provide a different seed to get a different hash value\n",
        "            self.bit_array[array_index] = True #set the corresponding array bit\n",
        "  \n",
        "    def check_item(self, item): #  method to check if the element exists or not\n",
        "        for i in range(self.hashfuns_count): \n",
        "            digest = mmh3.hash(item,i) % self.array_size \n",
        "            if self.bit_array[digest] == False: # if any bit is false, then the element is not present\n",
        "                return False\n",
        "        return True\n",
        "  \n",
        "    def get_hashfuns_count(self, array_size, n): \n",
        "        ''' Calculate the number of hash functions to use based on the following formula:\n",
        "        hashfuns_count = (array_size/expected_itemsCount) * log(2) \n",
        "        '''\n",
        "        \n",
        "        hashfuns_count = (array_size/expected_itemsCount) * math.log(2) \n",
        "        return int(hashfuns_count) \n",
        "\n",
        "    def get_arraySize(self,expected_itemsCount,FP_probability): \n",
        "        '''Calculate the size of the array based on the false positive \n",
        "            probability and number of expected items to store \n",
        "            array_size = -(expected_itemsCount * log(fp_prob))/(log(2)^2)  \n",
        "        '''\n",
        "        array_size = -( expected_itemsCount * math.log(FP_probability) )/( math.log(2)**2 ) \n",
        "        return int(array_size) #cast the result to int"
      ],
      "execution_count": 1,
      "outputs": [
        {
          "output_type": "stream",
          "text": [
            "Collecting mmh3\n",
            "  Downloading https://files.pythonhosted.org/packages/fa/7e/3ddcab0a9fcea034212c02eb411433db9330e34d626360b97333368b4052/mmh3-2.5.1.tar.gz\n",
            "Building wheels for collected packages: mmh3\n",
            "  Building wheel for mmh3 (setup.py) ... \u001b[?25l\u001b[?25hdone\n",
            "  Created wheel for mmh3: filename=mmh3-2.5.1-cp36-cp36m-linux_x86_64.whl size=37862 sha256=563c8f90b97782b784f2b7b6bbcd37e23342c0e6f58e2f3b44d59843e38e5ce2\n",
            "  Stored in directory: /root/.cache/pip/wheels/38/b4/ea/6e4e321c625d3320c0c496bf4088371546d8fce5f1dd71b219\n",
            "Successfully built mmh3\n",
            "Installing collected packages: mmh3\n",
            "Successfully installed mmh3-2.5.1\n",
            "Collecting bitarray\n",
            "  Downloading https://files.pythonhosted.org/packages/c7/2a/35d3bd5bffa9e179267318057a12adc41f837310edf043d8e6d939719f95/bitarray-1.0.1.tar.gz\n",
            "Building wheels for collected packages: bitarray\n",
            "  Building wheel for bitarray (setup.py) ... \u001b[?25l\u001b[?25hdone\n",
            "  Created wheel for bitarray: filename=bitarray-1.0.1-cp36-cp36m-linux_x86_64.whl size=76956 sha256=01edfb28ce21eb1c97fb63112ba353266ced57e98f4c62edc516f8a8fc789b46\n",
            "  Stored in directory: /root/.cache/pip/wheels/d2/e3/1b/82b4f8f9e4f36c6b3f171b1781d5a7d85e74a113f1ee58f0f4\n",
            "Successfully built bitarray\n",
            "Installing collected packages: bitarray\n",
            "Successfully installed bitarray-1.0.1\n"
          ],
          "name": "stdout"
        }
      ]
    },
    {
      "cell_type": "code",
      "metadata": {
        "id": "EKOsc5tSyafq",
        "colab_type": "code",
        "colab": {
          "base_uri": "https://localhost:8080/",
          "height": 253
        },
        "outputId": "b27aa0e3-7a68-4a8f-b046-4595bfaaa880"
      },
      "source": [
        "#test the bloom filter \n",
        "from random import shuffle \n",
        "\n",
        "FP_probability = 0.01 #false positive probability   \n",
        "expected_itemsCount = 10 #no of items expected to add \n",
        "bloomfilter = BloomFilter(expected_itemsCount,FP_probability)  \n",
        "print(\"Size of the array: {} , and the number of hash functions: {}\".format(bloomfilter.array_size,bloomfilter.hashfuns_count)) \n",
        "  \n",
        "# a list of countries to be added \n",
        "country_present = ['Albania','Australia','Greece','Canada','China','Mexico','Cyprus','France','Netherlands','Norway','Poland','Portugal']   \n",
        "# countries not added \n",
        "country_absent = ['Romania','Russia','Singapore','Slovakia','Slovenia','Spain']\n",
        "  \n",
        "for item in country_present: \n",
        "    bloomfilter.add_item(item) #add the items\n",
        "shuffle(country_absent)   \n",
        "shuffle(country_present) \n",
        "  \n",
        "test_countries = country_present[:6] + country_absent \n",
        "shuffle(test_countries) #shuffle the test list\n",
        "for country in test_countries: \n",
        "    if not bloomfilter.check_item(country): #check the items\n",
        "      print(\" '{}'  it's not present!\".format(country))\n",
        "      \n",
        "    else:\n",
        "      if country in country_absent: \n",
        "            print(\"'{}' its a false positive \".format(country)) \n",
        "      else: \n",
        "            print(\"'{}' it's probably present!\".format(country)) "
      ],
      "execution_count": 2,
      "outputs": [
        {
          "output_type": "stream",
          "text": [
            "Size of the array: 95 , and the number of hash functions: 6\n",
            "'China' it's probably present!\n",
            " 'Slovenia'  it's not present!\n",
            " 'Slovakia'  it's not present!\n",
            "'Australia' it's probably present!\n",
            "'Cyprus' it's probably present!\n",
            "'Poland' it's probably present!\n",
            "'Canada' it's probably present!\n",
            "'Albania' it's probably present!\n",
            " 'Spain'  it's not present!\n",
            " 'Singapore'  it's not present!\n",
            " 'Romania'  it's not present!\n",
            " 'Russia'  it's not present!\n"
          ],
          "name": "stdout"
        }
      ]
    }
  ]
}